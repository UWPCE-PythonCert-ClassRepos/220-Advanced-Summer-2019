{
 "cells": [
  {
   "cell_type": "code",
   "execution_count": 6,
   "metadata": {},
   "outputs": [],
   "source": [
    "from pymongo import MongoClient"
   ]
  },
  {
   "cell_type": "code",
   "execution_count": 7,
   "metadata": {},
   "outputs": [],
   "source": [
    "#client\n",
    "mongo = MongoClient(\"mongodb://localhost:27017\")"
   ]
  },
  {
   "cell_type": "code",
   "execution_count": 8,
   "metadata": {},
   "outputs": [],
   "source": [
    "# creating database\n",
    "db = mongo[\"ecommerce_store\"]"
   ]
  },
  {
   "cell_type": "code",
   "execution_count": 9,
   "metadata": {},
   "outputs": [],
   "source": [
    "#Table == collection\n",
    "\n",
    "customers = db[\"customers\"]"
   ]
  },
  {
   "cell_type": "code",
   "execution_count": 10,
   "metadata": {},
   "outputs": [
    {
     "ename": "AttributeError",
     "evalue": "'InsertOneResult' object has no attribute 'inserted_ids'",
     "output_type": "error",
     "traceback": [
      "\u001b[0;31m---------------------------------------------------------------------------\u001b[0m",
      "\u001b[0;31mAttributeError\u001b[0m                            Traceback (most recent call last)",
      "\u001b[0;32m<ipython-input-10-4e576fad8913>\u001b[0m in \u001b[0;36m<module>\u001b[0;34m\u001b[0m\n\u001b[1;32m     12\u001b[0m \u001b[0;34m\u001b[0m\u001b[0m\n\u001b[1;32m     13\u001b[0m \u001b[0;32mif\u001b[0m \u001b[0mresults\u001b[0m\u001b[0;34m.\u001b[0m\u001b[0macknowledged\u001b[0m\u001b[0;34m:\u001b[0m\u001b[0;34m\u001b[0m\u001b[0;34m\u001b[0m\u001b[0m\n\u001b[0;32m---> 14\u001b[0;31m     \u001b[0mprint\u001b[0m\u001b[0;34m(\u001b[0m\u001b[0mresults\u001b[0m\u001b[0;34m.\u001b[0m\u001b[0minserted_ids\u001b[0m\u001b[0;34m)\u001b[0m\u001b[0;34m\u001b[0m\u001b[0;34m\u001b[0m\u001b[0m\n\u001b[0m",
      "\u001b[0;31mAttributeError\u001b[0m: 'InsertOneResult' object has no attribute 'inserted_ids'"
     ]
    }
   ],
   "source": [
    "# Document == Row\n",
    "\n",
    "row = {\n",
    "    \"first _name\": \"Sam\",\n",
    "    \"last_name\": \"Adams\",\n",
    "    \"occupation\": \"beverage_maker\",\n",
    "    \"city\": \"Boston\"\n",
    "}\n",
    "#C.R.U.D - Create Read Update Delete\n",
    "#Create\n",
    "results = customers.insert_one(row)\n",
    "\n",
    "if results.acknowledged:\n",
    "    print(results.inserted_ids)\n"
   ]
  },
  {
   "cell_type": "code",
   "execution_count": 11,
   "metadata": {},
   "outputs": [
    {
     "name": "stdout",
     "output_type": "stream",
     "text": [
      "[ObjectId('5d40fa907768dc5d2106c8e5'), ObjectId('5d40fa907768dc5d2106c8e6'), ObjectId('5d40fa907768dc5d2106c8e7'), ObjectId('5d40fa907768dc5d2106c8e8'), ObjectId('5d40fa907768dc5d2106c8e9')]\n"
     ]
    }
   ],
   "source": [
    "# INSERT MULTIPLE ROWS\n",
    "\n",
    "rows = [\n",
    "    {\"first_name\": \"Amy\", \"last_name\": \"Jones\", \"city\": \"Seattle\"},\n",
    "    {\"first_name\": \"Vu\", \"last_name\": \"Huong\", \"city\": \"New York\"},\n",
    "    {\"first_name\": \"Keerthi\", \"last_name\": \"Mittal\", \"city\": \"Charlotte\"},\n",
    "    {\"first_name\": \"Sandy\", \"last_name\": \"Richardson\", \"city\": \"Portland\"},\n",
    "    {\"first_name\": \"Bryan\", \"last_name\": \"Davis\", \"city\": [\"Seattle\", \"Phoenix\"]}\n",
    "]\n",
    "\n",
    "results = customers.insert_many(rows)\n",
    "if results.acknowledged:\n",
    "    print(results.inserted_ids)"
   ]
  },
  {
   "cell_type": "code",
   "execution_count": 12,
   "metadata": {},
   "outputs": [
    {
     "data": {
      "text/plain": [
       "[{'_id': ObjectId('5d40f60be726d2392c79fcb8'),\n",
       "  'first _name': 'Sam',\n",
       "  'last_name': 'Adams',\n",
       "  'occupation': 'beverage_maker',\n",
       "  'city': 'Boston'},\n",
       " {'_id': ObjectId('5d40f60ce726d2392c79fcb9'),\n",
       "  'first_name': 'Amy',\n",
       "  'last_name': 'Jones',\n",
       "  'city': 'Seattle'},\n",
       " {'_id': ObjectId('5d40f60ce726d2392c79fcba'),\n",
       "  'first_name': 'Vu',\n",
       "  'last_name': 'Huong',\n",
       "  'city': 'New York'},\n",
       " {'_id': ObjectId('5d40f60ce726d2392c79fcbb'),\n",
       "  'first_name': 'Keerthi',\n",
       "  'last_name': 'Mittal',\n",
       "  'city': 'Charlotte'},\n",
       " {'_id': ObjectId('5d40f60ce726d2392c79fcbc'),\n",
       "  'first_name': 'Sandy',\n",
       "  'last_name': 'Richardson',\n",
       "  'city': 'Portland'},\n",
       " {'_id': ObjectId('5d40f60ce726d2392c79fcbd'),\n",
       "  'first_name': 'Bryan',\n",
       "  'last_name': 'Davis',\n",
       "  'city': 'Seattle'},\n",
       " {'_id': ObjectId('5d40f81de726d2392c79fcbe'),\n",
       "  'first _name': 'Sam',\n",
       "  'last_name': 'Adams',\n",
       "  'occupation': 'beverage_maker',\n",
       "  'city': 'Boston'},\n",
       " {'_id': ObjectId('5d40f83ce726d2392c79fcbf'),\n",
       "  'first _name': 'Sam',\n",
       "  'last_name': 'Adams',\n",
       "  'occupation': 'beverage_maker',\n",
       "  'city': 'Boston'},\n",
       " {'_id': ObjectId('5d40f8d8e726d2392c79fcc0'),\n",
       "  'first_name': 'Amy',\n",
       "  'last_name': 'Jones',\n",
       "  'city': 'Seattle'},\n",
       " {'_id': ObjectId('5d40f8d8e726d2392c79fcc1'),\n",
       "  'first_name': 'Vu',\n",
       "  'last_name': 'Huong',\n",
       "  'city': 'New York'},\n",
       " {'_id': ObjectId('5d40f8d8e726d2392c79fcc2'),\n",
       "  'first_name': 'Keerthi',\n",
       "  'last_name': 'Mittal',\n",
       "  'city': 'Charlotte'},\n",
       " {'_id': ObjectId('5d40f8d8e726d2392c79fcc3'),\n",
       "  'first_name': 'Sandy',\n",
       "  'last_name': 'Richardson',\n",
       "  'city': 'Portland'},\n",
       " {'_id': ObjectId('5d40f8d8e726d2392c79fcc4'),\n",
       "  'first_name': 'Bryan',\n",
       "  'last_name': 'Davis',\n",
       "  'city': ['Seattle', 'Phoenix']},\n",
       " {'_id': ObjectId('5d40f99fe726d2392c79fcc5'),\n",
       "  'first_name': 'Amy',\n",
       "  'last_name': 'Jones',\n",
       "  'city': 'Seattle'},\n",
       " {'_id': ObjectId('5d40f99fe726d2392c79fcc6'),\n",
       "  'first_name': 'Vu',\n",
       "  'last_name': 'Huong',\n",
       "  'city': 'New York'},\n",
       " {'_id': ObjectId('5d40f99fe726d2392c79fcc7'),\n",
       "  'first_name': 'Keerthi',\n",
       "  'last_name': 'Mittal',\n",
       "  'city': 'Charlotte'},\n",
       " {'_id': ObjectId('5d40f99fe726d2392c79fcc8'),\n",
       "  'first_name': 'Sandy',\n",
       "  'last_name': 'Richardson',\n",
       "  'city': 'Portland'},\n",
       " {'_id': ObjectId('5d40f99fe726d2392c79fcc9'),\n",
       "  'first_name': 'Bryan',\n",
       "  'last_name': 'Davis',\n",
       "  'city': ['Seattle', 'Phoenix']},\n",
       " {'_id': ObjectId('5d40f9a7e726d2392c79fccb'),\n",
       "  'first _name': 'Sam',\n",
       "  'last_name': 'Adams',\n",
       "  'occupation': 'beverage_maker',\n",
       "  'city': 'Boston'},\n",
       " {'_id': ObjectId('5d40f9a7e726d2392c79fccc'),\n",
       "  'first_name': 'Amy',\n",
       "  'last_name': 'Jones',\n",
       "  'city': 'Seattle'},\n",
       " {'_id': ObjectId('5d40f9a7e726d2392c79fccd'),\n",
       "  'first_name': 'Vu',\n",
       "  'last_name': 'Huong',\n",
       "  'city': 'New York'},\n",
       " {'_id': ObjectId('5d40f9a7e726d2392c79fcce'),\n",
       "  'first_name': 'Keerthi',\n",
       "  'last_name': 'Mittal',\n",
       "  'city': 'Charlotte'},\n",
       " {'_id': ObjectId('5d40f9a7e726d2392c79fccf'),\n",
       "  'first_name': 'Sandy',\n",
       "  'last_name': 'Richardson',\n",
       "  'city': 'Portland'},\n",
       " {'_id': ObjectId('5d40f9a7e726d2392c79fcd0'),\n",
       "  'first_name': 'Bryan',\n",
       "  'last_name': 'Davis',\n",
       "  'city': ['Seattle', 'Phoenix']},\n",
       " {'_id': ObjectId('5d40fa907768dc5d2106c8e4'),\n",
       "  'first _name': 'Sam',\n",
       "  'last_name': 'Adams',\n",
       "  'occupation': 'beverage_maker',\n",
       "  'city': 'Boston'},\n",
       " {'_id': ObjectId('5d40fa907768dc5d2106c8e5'),\n",
       "  'first_name': 'Amy',\n",
       "  'last_name': 'Jones',\n",
       "  'city': 'Seattle'},\n",
       " {'_id': ObjectId('5d40fa907768dc5d2106c8e6'),\n",
       "  'first_name': 'Vu',\n",
       "  'last_name': 'Huong',\n",
       "  'city': 'New York'},\n",
       " {'_id': ObjectId('5d40fa907768dc5d2106c8e7'),\n",
       "  'first_name': 'Keerthi',\n",
       "  'last_name': 'Mittal',\n",
       "  'city': 'Charlotte'},\n",
       " {'_id': ObjectId('5d40fa907768dc5d2106c8e8'),\n",
       "  'first_name': 'Sandy',\n",
       "  'last_name': 'Richardson',\n",
       "  'city': 'Portland'},\n",
       " {'_id': ObjectId('5d40fa907768dc5d2106c8e9'),\n",
       "  'first_name': 'Bryan',\n",
       "  'last_name': 'Davis',\n",
       "  'city': ['Seattle', 'Phoenix']}]"
      ]
     },
     "execution_count": 12,
     "metadata": {},
     "output_type": "execute_result"
    }
   ],
   "source": [
    "# READ ALL DOCUMENTS\n",
    "list(customers.find())"
   ]
  },
  {
   "cell_type": "code",
   "execution_count": 13,
   "metadata": {},
   "outputs": [
    {
     "data": {
      "text/plain": [
       "[{'_id': ObjectId('5d40f60ce726d2392c79fcb9'),\n",
       "  'first_name': 'Amy',\n",
       "  'last_name': 'Jones',\n",
       "  'city': 'Seattle'},\n",
       " {'_id': ObjectId('5d40f60ce726d2392c79fcbd'),\n",
       "  'first_name': 'Bryan',\n",
       "  'last_name': 'Davis',\n",
       "  'city': 'Seattle'},\n",
       " {'_id': ObjectId('5d40f8d8e726d2392c79fcc0'),\n",
       "  'first_name': 'Amy',\n",
       "  'last_name': 'Jones',\n",
       "  'city': 'Seattle'},\n",
       " {'_id': ObjectId('5d40f8d8e726d2392c79fcc4'),\n",
       "  'first_name': 'Bryan',\n",
       "  'last_name': 'Davis',\n",
       "  'city': ['Seattle', 'Phoenix']},\n",
       " {'_id': ObjectId('5d40f99fe726d2392c79fcc5'),\n",
       "  'first_name': 'Amy',\n",
       "  'last_name': 'Jones',\n",
       "  'city': 'Seattle'},\n",
       " {'_id': ObjectId('5d40f99fe726d2392c79fcc9'),\n",
       "  'first_name': 'Bryan',\n",
       "  'last_name': 'Davis',\n",
       "  'city': ['Seattle', 'Phoenix']},\n",
       " {'_id': ObjectId('5d40f9a7e726d2392c79fccc'),\n",
       "  'first_name': 'Amy',\n",
       "  'last_name': 'Jones',\n",
       "  'city': 'Seattle'},\n",
       " {'_id': ObjectId('5d40f9a7e726d2392c79fcd0'),\n",
       "  'first_name': 'Bryan',\n",
       "  'last_name': 'Davis',\n",
       "  'city': ['Seattle', 'Phoenix']},\n",
       " {'_id': ObjectId('5d40fa907768dc5d2106c8e5'),\n",
       "  'first_name': 'Amy',\n",
       "  'last_name': 'Jones',\n",
       "  'city': 'Seattle'},\n",
       " {'_id': ObjectId('5d40fa907768dc5d2106c8e9'),\n",
       "  'first_name': 'Bryan',\n",
       "  'last_name': 'Davis',\n",
       "  'city': ['Seattle', 'Phoenix']}]"
      ]
     },
     "execution_count": 13,
     "metadata": {},
     "output_type": "execute_result"
    }
   ],
   "source": [
    "where = {\"city\": \"Seattle\"}\n",
    "\n",
    "seattlites = customers.find(where)\n",
    "\n",
    "list(seattlites)"
   ]
  },
  {
   "cell_type": "code",
   "execution_count": 31,
   "metadata": {},
   "outputs": [
    {
     "data": {
      "text/plain": [
       "<pymongo.results.UpdateResult at 0x105bc9af0>"
      ]
     },
     "execution_count": 31,
     "metadata": {},
     "output_type": "execute_result"
    }
   ],
   "source": [
    "# UPDATE\n",
    "\n",
    "where = {\n",
    "    \"last_name\": \"Huong\"\n",
    "}\n",
    "update = {\n",
    "    \"$set\": {\"city\": \"San Francisco\"}\n",
    "}\n",
    "\n",
    "results = customers.update_one(\n",
    "    where,\n",
    "    update\n",
    ")"
   ]
  },
  {
   "cell_type": "code",
   "execution_count": 29,
   "metadata": {},
   "outputs": [
    {
     "data": {
      "text/plain": [
       "5"
      ]
     },
     "execution_count": 29,
     "metadata": {},
     "output_type": "execute_result"
    }
   ],
   "source": [
    "results.matched_count"
   ]
  },
  {
   "cell_type": "code",
   "execution_count": 30,
   "metadata": {},
   "outputs": [
    {
     "data": {
      "text/plain": [
       "[]"
      ]
     },
     "execution_count": 30,
     "metadata": {},
     "output_type": "execute_result"
    }
   ],
   "source": [
    "list(customers.find({\"last_name\":\"Houng\"}))"
   ]
  },
  {
   "cell_type": "code",
   "execution_count": 34,
   "metadata": {},
   "outputs": [
    {
     "data": {
      "text/plain": [
       "<pymongo.results.UpdateResult at 0x10579ccd0>"
      ]
     },
     "execution_count": 34,
     "metadata": {},
     "output_type": "execute_result"
    }
   ],
   "source": [
    "# UPDATE\n",
    "\n",
    "where = {\n",
    "    \"last_name\": \"Huong\"\n",
    "}\n",
    "update = {\n",
    "    \"$set\": {\"city\": \"San Francisco\"}\n",
    "}\n",
    "\n",
    "customers.update_many(\n",
    "    where,\n",
    "    update\n",
    ")"
   ]
  },
  {
   "cell_type": "code",
   "execution_count": 35,
   "metadata": {},
   "outputs": [
    {
     "data": {
      "text/plain": [
       "[{'_id': ObjectId('5d40f60ce726d2392c79fcb9'),\n",
       "  'first_name': 'Amy',\n",
       "  'last_name': 'Jones',\n",
       "  'city': 'Seattle'},\n",
       " {'_id': ObjectId('5d40f60ce726d2392c79fcbd'),\n",
       "  'first_name': 'Bryan',\n",
       "  'last_name': 'Davis',\n",
       "  'city': 'Seattle'},\n",
       " {'_id': ObjectId('5d40f8d8e726d2392c79fcc0'),\n",
       "  'first_name': 'Amy',\n",
       "  'last_name': 'Jones',\n",
       "  'city': 'Seattle'},\n",
       " {'_id': ObjectId('5d40f8d8e726d2392c79fcc4'),\n",
       "  'first_name': 'Bryan',\n",
       "  'last_name': 'Davis',\n",
       "  'city': ['Seattle', 'Phoenix']},\n",
       " {'_id': ObjectId('5d40f99fe726d2392c79fcc5'),\n",
       "  'first_name': 'Amy',\n",
       "  'last_name': 'Jones',\n",
       "  'city': 'Seattle'},\n",
       " {'_id': ObjectId('5d40f99fe726d2392c79fcc9'),\n",
       "  'first_name': 'Bryan',\n",
       "  'last_name': 'Davis',\n",
       "  'city': ['Seattle', 'Phoenix']},\n",
       " {'_id': ObjectId('5d40f9a7e726d2392c79fccc'),\n",
       "  'first_name': 'Amy',\n",
       "  'last_name': 'Jones',\n",
       "  'city': 'Seattle'},\n",
       " {'_id': ObjectId('5d40f9a7e726d2392c79fcd0'),\n",
       "  'first_name': 'Bryan',\n",
       "  'last_name': 'Davis',\n",
       "  'city': ['Seattle', 'Phoenix']},\n",
       " {'_id': ObjectId('5d40fa907768dc5d2106c8e5'),\n",
       "  'first_name': 'Amy',\n",
       "  'last_name': 'Jones',\n",
       "  'city': 'Seattle'},\n",
       " {'_id': ObjectId('5d40fa907768dc5d2106c8e9'),\n",
       "  'first_name': 'Bryan',\n",
       "  'last_name': 'Davis',\n",
       "  'city': ['Seattle', 'Phoenix']}]"
      ]
     },
     "execution_count": 35,
     "metadata": {},
     "output_type": "execute_result"
    }
   ],
   "source": [
    "list(customers.find({\"city\":\"Seattle\"}))"
   ]
  },
  {
   "cell_type": "code",
   "execution_count": 44,
   "metadata": {},
   "outputs": [
    {
     "data": {
      "text/plain": [
       "<pymongo.results.UpdateResult at 0x105c34730>"
      ]
     },
     "execution_count": 44,
     "metadata": {},
     "output_type": "execute_result"
    }
   ],
   "source": [
    "from random import randint, random, seed\n",
    "from datetime import datetime\n",
    "\n",
    "\n",
    "where = {\n",
    "    \"city\": \"San Francisco\"\n",
    "}\n",
    "update = {\n",
    "    \"$set\": {\"age\": 35}\n",
    "}\n",
    "\n",
    "customers.update_many(\n",
    "    where,\n",
    "    update\n",
    ")"
   ]
  },
  {
   "cell_type": "code",
   "execution_count": 46,
   "metadata": {},
   "outputs": [
    {
     "data": {
      "text/plain": [
       "[{'_id': ObjectId('5d40f60ce726d2392c79fcba'),\n",
       "  'first_name': 'Vu',\n",
       "  'last_name': 'Huong',\n",
       "  'city': 'San Francisco',\n",
       "  'age': 35},\n",
       " {'_id': ObjectId('5d40f8d8e726d2392c79fcc1'),\n",
       "  'first_name': 'Vu',\n",
       "  'last_name': 'Huong',\n",
       "  'city': 'San Francisco',\n",
       "  'age': 35},\n",
       " {'_id': ObjectId('5d40f99fe726d2392c79fcc6'),\n",
       "  'first_name': 'Vu',\n",
       "  'last_name': 'Huong',\n",
       "  'city': 'San Francisco',\n",
       "  'age': 35},\n",
       " {'_id': ObjectId('5d40f9a7e726d2392c79fccd'),\n",
       "  'first_name': 'Vu',\n",
       "  'last_name': 'Huong',\n",
       "  'city': 'San Francisco',\n",
       "  'age': 35},\n",
       " {'_id': ObjectId('5d40fa907768dc5d2106c8e6'),\n",
       "  'first_name': 'Vu',\n",
       "  'last_name': 'Huong',\n",
       "  'city': 'San Francisco',\n",
       "  'age': 35}]"
      ]
     },
     "execution_count": 46,
     "metadata": {},
     "output_type": "execute_result"
    }
   ],
   "source": [
    "list(customers.find({\"city\":\"San Francisco\"}))"
   ]
  },
  {
   "cell_type": "code",
   "execution_count": 47,
   "metadata": {},
   "outputs": [
    {
     "data": {
      "text/plain": [
       "[{'_id': ObjectId('5d40f60ce726d2392c79fcba'),\n",
       "  'first_name': 'Vu',\n",
       "  'last_name': 'Huong',\n",
       "  'city': 'San Francisco',\n",
       "  'age': 35},\n",
       " {'_id': ObjectId('5d40f8d8e726d2392c79fcc1'),\n",
       "  'first_name': 'Vu',\n",
       "  'last_name': 'Huong',\n",
       "  'city': 'San Francisco',\n",
       "  'age': 35},\n",
       " {'_id': ObjectId('5d40f99fe726d2392c79fcc6'),\n",
       "  'first_name': 'Vu',\n",
       "  'last_name': 'Huong',\n",
       "  'city': 'San Francisco',\n",
       "  'age': 35},\n",
       " {'_id': ObjectId('5d40f9a7e726d2392c79fccd'),\n",
       "  'first_name': 'Vu',\n",
       "  'last_name': 'Huong',\n",
       "  'city': 'San Francisco',\n",
       "  'age': 35},\n",
       " {'_id': ObjectId('5d40fa907768dc5d2106c8e6'),\n",
       "  'first_name': 'Vu',\n",
       "  'last_name': 'Huong',\n",
       "  'city': 'San Francisco',\n",
       "  'age': 35}]"
      ]
     },
     "execution_count": 47,
     "metadata": {},
     "output_type": "execute_result"
    }
   ],
   "source": [
    "list(customers.find({\n",
    "    \"age\": {\"$gt\": 32} # means greater than 32\n",
    "}))"
   ]
  },
  {
   "cell_type": "code",
   "execution_count": 48,
   "metadata": {},
   "outputs": [
    {
     "data": {
      "text/plain": [
       "[]"
      ]
     },
     "execution_count": 48,
     "metadata": {},
     "output_type": "execute_result"
    }
   ],
   "source": [
    "list(customers.find({\n",
    "    \"age\": {\"$lt\": 32}, # means greater than 32\n",
    "    \"occupation\": {\"$eq\": \"developer\"}\n",
    "}))"
   ]
  },
  {
   "cell_type": "code",
   "execution_count": 55,
   "metadata": {},
   "outputs": [
    {
     "data": {
      "text/plain": [
       "<pymongo.results.DeleteResult at 0x105c3ed20>"
      ]
     },
     "execution_count": 55,
     "metadata": {},
     "output_type": "execute_result"
    }
   ],
   "source": [
    "where = {\n",
    "    \"city\": \"San Francisco\"\n",
    "}\n",
    "\n",
    "customers.delete_many(\n",
    "    where\n",
    ")"
   ]
  },
  {
   "cell_type": "code",
   "execution_count": 56,
   "metadata": {},
   "outputs": [
    {
     "name": "stdout",
     "output_type": "stream",
     "text": [
      "{'_id': ObjectId('5d40f60be726d2392c79fcb8'),\n",
      " 'city': 'Boston',\n",
      " 'first _name': 'Sam',\n",
      " 'last_name': 'Adams',\n",
      " 'occupation': 'beverage_maker'}\n",
      "{'_id': ObjectId('5d40f60ce726d2392c79fcb9'),\n",
      " 'city': 'Seattle',\n",
      " 'first_name': 'Amy',\n",
      " 'last_name': 'Jones'}\n",
      "{'_id': ObjectId('5d40f60ce726d2392c79fcbb'),\n",
      " 'city': 'Charlotte',\n",
      " 'first_name': 'Keerthi',\n",
      " 'last_name': 'Mittal'}\n",
      "{'_id': ObjectId('5d40f60ce726d2392c79fcbc'),\n",
      " 'city': 'Portland',\n",
      " 'first_name': 'Sandy',\n",
      " 'last_name': 'Richardson'}\n",
      "{'_id': ObjectId('5d40f60ce726d2392c79fcbd'),\n",
      " 'city': 'Seattle',\n",
      " 'first_name': 'Bryan',\n",
      " 'last_name': 'Davis'}\n",
      "{'_id': ObjectId('5d40f81de726d2392c79fcbe'),\n",
      " 'city': 'Boston',\n",
      " 'first _name': 'Sam',\n",
      " 'last_name': 'Adams',\n",
      " 'occupation': 'beverage_maker'}\n",
      "{'_id': ObjectId('5d40f83ce726d2392c79fcbf'),\n",
      " 'city': 'Boston',\n",
      " 'first _name': 'Sam',\n",
      " 'last_name': 'Adams',\n",
      " 'occupation': 'beverage_maker'}\n",
      "{'_id': ObjectId('5d40f8d8e726d2392c79fcc0'),\n",
      " 'city': 'Seattle',\n",
      " 'first_name': 'Amy',\n",
      " 'last_name': 'Jones'}\n",
      "{'_id': ObjectId('5d40f8d8e726d2392c79fcc2'),\n",
      " 'city': 'Charlotte',\n",
      " 'first_name': 'Keerthi',\n",
      " 'last_name': 'Mittal'}\n",
      "{'_id': ObjectId('5d40f8d8e726d2392c79fcc3'),\n",
      " 'city': 'Portland',\n",
      " 'first_name': 'Sandy',\n",
      " 'last_name': 'Richardson'}\n",
      "{'_id': ObjectId('5d40f8d8e726d2392c79fcc4'),\n",
      " 'city': ['Seattle', 'Phoenix'],\n",
      " 'first_name': 'Bryan',\n",
      " 'last_name': 'Davis'}\n",
      "{'_id': ObjectId('5d40f99fe726d2392c79fcc5'),\n",
      " 'city': 'Seattle',\n",
      " 'first_name': 'Amy',\n",
      " 'last_name': 'Jones'}\n",
      "{'_id': ObjectId('5d40f99fe726d2392c79fcc7'),\n",
      " 'city': 'Charlotte',\n",
      " 'first_name': 'Keerthi',\n",
      " 'last_name': 'Mittal'}\n",
      "{'_id': ObjectId('5d40f99fe726d2392c79fcc8'),\n",
      " 'city': 'Portland',\n",
      " 'first_name': 'Sandy',\n",
      " 'last_name': 'Richardson'}\n",
      "{'_id': ObjectId('5d40f99fe726d2392c79fcc9'),\n",
      " 'city': ['Seattle', 'Phoenix'],\n",
      " 'first_name': 'Bryan',\n",
      " 'last_name': 'Davis'}\n",
      "{'_id': ObjectId('5d40f9a7e726d2392c79fccb'),\n",
      " 'city': 'Boston',\n",
      " 'first _name': 'Sam',\n",
      " 'last_name': 'Adams',\n",
      " 'occupation': 'beverage_maker'}\n",
      "{'_id': ObjectId('5d40f9a7e726d2392c79fccc'),\n",
      " 'city': 'Seattle',\n",
      " 'first_name': 'Amy',\n",
      " 'last_name': 'Jones'}\n",
      "{'_id': ObjectId('5d40f9a7e726d2392c79fcce'),\n",
      " 'city': 'Charlotte',\n",
      " 'first_name': 'Keerthi',\n",
      " 'last_name': 'Mittal'}\n",
      "{'_id': ObjectId('5d40f9a7e726d2392c79fccf'),\n",
      " 'city': 'Portland',\n",
      " 'first_name': 'Sandy',\n",
      " 'last_name': 'Richardson'}\n",
      "{'_id': ObjectId('5d40f9a7e726d2392c79fcd0'),\n",
      " 'city': ['Seattle', 'Phoenix'],\n",
      " 'first_name': 'Bryan',\n",
      " 'last_name': 'Davis'}\n",
      "{'_id': ObjectId('5d40fa907768dc5d2106c8e4'),\n",
      " 'city': 'Boston',\n",
      " 'first _name': 'Sam',\n",
      " 'last_name': 'Adams',\n",
      " 'occupation': 'beverage_maker'}\n",
      "{'_id': ObjectId('5d40fa907768dc5d2106c8e5'),\n",
      " 'city': 'Seattle',\n",
      " 'first_name': 'Amy',\n",
      " 'last_name': 'Jones'}\n",
      "{'_id': ObjectId('5d40fa907768dc5d2106c8e7'),\n",
      " 'city': 'Charlotte',\n",
      " 'first_name': 'Keerthi',\n",
      " 'last_name': 'Mittal'}\n",
      "{'_id': ObjectId('5d40fa907768dc5d2106c8e8'),\n",
      " 'city': 'Portland',\n",
      " 'first_name': 'Sandy',\n",
      " 'last_name': 'Richardson'}\n",
      "{'_id': ObjectId('5d40fa907768dc5d2106c8e9'),\n",
      " 'city': ['Seattle', 'Phoenix'],\n",
      " 'first_name': 'Bryan',\n",
      " 'last_name': 'Davis'}\n"
     ]
    }
   ],
   "source": [
    "from pprint import pprint\n",
    "for customer in customers.find():\n",
    "    pprint(customer)"
   ]
  },
  {
   "cell_type": "code",
   "execution_count": 58,
   "metadata": {},
   "outputs": [
    {
     "ename": "TypeError",
     "evalue": "'dict' object is not callable",
     "output_type": "error",
     "traceback": [
      "\u001b[0;31m---------------------------------------------------------------------------\u001b[0m",
      "\u001b[0;31mTypeError\u001b[0m                                 Traceback (most recent call last)",
      "\u001b[0;32m<ipython-input-58-8fe60f8dff4c>\u001b[0m in \u001b[0;36m<module>\u001b[0;34m\u001b[0m\n\u001b[0;32m----> 1\u001b[0;31m \u001b[0mupdate\u001b[0m\u001b[0;34m(\u001b[0m\u001b[0;34m{\u001b[0m\u001b[0;34m}\u001b[0m\u001b[0;34m,\u001b[0m \u001b[0;34m{\u001b[0m\u001b[0;34m'$unset'\u001b[0m\u001b[0;34m:\u001b[0m \u001b[0;34m{\u001b[0m\u001b[0;34m'parent.toremove'\u001b[0m\u001b[0;34m:\u001b[0m\u001b[0;36m1\u001b[0m\u001b[0;34m}\u001b[0m\u001b[0;34m}\u001b[0m\u001b[0;34m,\u001b[0m \u001b[0mmulti\u001b[0m\u001b[0;34m=\u001b[0m\u001b[0;32mTrue\u001b[0m\u001b[0;34m)\u001b[0m\u001b[0;34m\u001b[0m\u001b[0;34m\u001b[0m\u001b[0m\n\u001b[0m\u001b[1;32m      2\u001b[0m \u001b[0;34m\u001b[0m\u001b[0m\n\u001b[1;32m      3\u001b[0m cusomters.update_man7(\n\u001b[1;32m      4\u001b[0m \u001b[0;34m{\u001b[0m\u001b[0;34m\"city\"\u001b[0m\u001b[0;34m:\u001b[0m \u001b[0;34m\"Boston\"\u001b[0m\u001b[0;34m,\u001b[0m \u001b[0;34m\"last_name\"\u001b[0m\u001b[0;34m:\u001b[0m\u001b[0;34m\"Adams\"\u001b[0m\u001b[0;34m}\u001b[0m\u001b[0;34m,\u001b[0m\u001b[0;34m\u001b[0m\u001b[0;34m\u001b[0m\u001b[0m\n\u001b[1;32m      5\u001b[0m \u001b[0;34m{\u001b[0m\u001b[0;34m\"$mod\"\u001b[0m\u001b[0;34m:\u001b[0m \u001b[0;34m\"occupation\"\u001b[0m\u001b[0;34m}\u001b[0m\u001b[0;34m\u001b[0m\u001b[0;34m\u001b[0m\u001b[0m\n",
      "\u001b[0;31mTypeError\u001b[0m: 'dict' object is not callable"
     ]
    }
   ],
   "source": [
    "update({}, {'$unset': {'parent.toremove':1}}, multi=True)\n",
    "\n",
    "cusomters.update_man7(\n",
    "{\"city\": \"Boston\", \"last_name\":\"Adams\"},\n",
    "{\"$mod\": \"occupation\"}\n",
    ")"
   ]
  },
  {
   "cell_type": "code",
   "execution_count": 59,
   "metadata": {},
   "outputs": [],
   "source": [
    "customers.drop()"
   ]
  },
  {
   "cell_type": "code",
   "execution_count": null,
   "metadata": {},
   "outputs": [],
   "source": []
  }
 ],
 "metadata": {
  "kernelspec": {
   "display_name": "Python 3",
   "language": "python",
   "name": "python3"
  },
  "language_info": {
   "codemirror_mode": {
    "name": "ipython",
    "version": 3
   },
   "file_extension": ".py",
   "mimetype": "text/x-python",
   "name": "python",
   "nbconvert_exporter": "python",
   "pygments_lexer": "ipython3",
   "version": "3.7.4"
  }
 },
 "nbformat": 4,
 "nbformat_minor": 2
}
